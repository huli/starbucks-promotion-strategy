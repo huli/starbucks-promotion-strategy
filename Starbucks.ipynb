{
 "cells": [
  {
   "cell_type": "markdown",
   "metadata": {},
   "source": [
    "## Portfolio Exercise: Starbucks\n",
    "<br>\n",
    "\n",
    "<img src=\"https://opj.ca/wp-content/uploads/2018/02/New-Starbucks-Logo-1200x969.jpg\" width=\"200\" height=\"200\">\n",
    "<br>\n",
    "<br>\n",
    " \n",
    "#### Background Information\n",
    "\n",
    "The dataset you will be provided in this portfolio exercise was originally used as a take-home assignment provided by Starbucks for their job candidates. The data for this exercise consists of about 120,000 data points split in a 2:1 ratio among training and test files. In the experiment simulated by the data, an advertising promotion was tested to see if it would bring more customers to purchase a specific product priced at $10. Since it costs the company 0.15 to send out each promotion, it would be best to limit that promotion only to those that are most receptive to the promotion. Each data point includes one column indicating whether or not an individual was sent a promotion for the product, and one column indicating whether or not that individual eventually purchased that product. Each individual also has seven additional features associated with them, which are provided abstractly as V1-V7.\n",
    "\n",
    "#### Optimization Strategy\n",
    "\n",
    "Your task is to use the training data to understand what patterns in V1-V7 to indicate that a promotion should be provided to a user. Specifically, your goal is to maximize the following metrics:\n",
    "\n",
    "* **Incremental Response Rate (IRR)** \n",
    "\n",
    "IRR depicts how many more customers purchased the product with the promotion, as compared to if they didn't receive the promotion. Mathematically, it's the ratio of the number of purchasers in the promotion group to the total number of customers in the purchasers group (_treatment_) minus the ratio of the number of purchasers in the non-promotional group to the total number of customers in the non-promotional group (_control_).\n",
    "\n",
    "$$ IRR = \\frac{purch_{treat}}{cust_{treat}} - \\frac{purch_{ctrl}}{cust_{ctrl}} $$\n",
    "\n",
    "\n",
    "* **Net Incremental Revenue (NIR)**\n",
    "\n",
    "NIR depicts how much is made (or lost) by sending out the promotion. Mathematically, this is 10 times the total number of purchasers that received the promotion minus 0.15 times the number of promotions sent out, minus 10 times the number of purchasers who were not given the promotion.\n",
    "\n",
    "$$ NIR = (10\\cdot purch_{treat} - 0.15 \\cdot cust_{treat}) - 10 \\cdot purch_{ctrl}$$\n",
    "\n",
    "For a full description of what Starbucks provides to candidates see the [instructions available here](https://drive.google.com/open?id=18klca9Sef1Rs6q8DW4l7o349r8B70qXM).\n",
    "\n",
    "Below you can find the training data provided.  Explore the data and different optimization strategies.\n",
    "\n",
    "#### How To Test Your Strategy?\n",
    "\n",
    "When you feel like you have an optimization strategy, complete the `promotion_strategy` function to pass to the `test_results` function.  \n",
    "From past data, we know there are four possible outomes:\n",
    "\n",
    "Table of actual promotion vs. predicted promotion customers:  \n",
    "\n",
    "<table>\n",
    "<tr><th></th><th colspan = '2'>Actual</th></tr>\n",
    "<tr><th>Predicted</th><th>Yes</th><th>No</th></tr>\n",
    "<tr><th>Yes</th><td>I</td><td>II</td></tr>\n",
    "<tr><th>No</th><td>III</td><td>IV</td></tr>\n",
    "</table>\n",
    "\n",
    "The metrics are only being compared for the individuals we predict should obtain the promotion – that is, quadrants I and II.  Since the first set of individuals that receive the promotion (in the training set) receive it randomly, we can expect that quadrants I and II will have approximately equivalent participants.  \n",
    "\n",
    "Comparing quadrant I to II then gives an idea of how well your promotion strategy will work in the future. \n",
    "\n",
    "Get started by reading in the data below.  See how each variable or combination of variables along with a promotion influences the chance of purchasing.  When you feel like you have a strategy for who should receive a promotion, test your strategy against the test dataset used in the final `test_results` function."
   ]
  },
  {
   "cell_type": "markdown",
   "metadata": {},
   "source": [
    "### Data Understanding"
   ]
  },
  {
   "cell_type": "markdown",
   "metadata": {},
   "source": [
    "We need to find the features lead to more purchases in the group that got the promotion compared to the control group.\n",
    "\n",
    "But first we want to understand the provided data in more detail."
   ]
  },
  {
   "cell_type": "code",
   "execution_count": 29,
   "metadata": {},
   "outputs": [
    {
     "data": {
      "text/html": [
       "<div>\n",
       "<style scoped>\n",
       "    .dataframe tbody tr th:only-of-type {\n",
       "        vertical-align: middle;\n",
       "    }\n",
       "\n",
       "    .dataframe tbody tr th {\n",
       "        vertical-align: top;\n",
       "    }\n",
       "\n",
       "    .dataframe thead th {\n",
       "        text-align: right;\n",
       "    }\n",
       "</style>\n",
       "<table border=\"1\" class=\"dataframe\">\n",
       "  <thead>\n",
       "    <tr style=\"text-align: right;\">\n",
       "      <th></th>\n",
       "      <th>ID</th>\n",
       "      <th>Promotion</th>\n",
       "      <th>purchase</th>\n",
       "      <th>V1</th>\n",
       "      <th>V2</th>\n",
       "      <th>V3</th>\n",
       "      <th>V4</th>\n",
       "      <th>V5</th>\n",
       "      <th>V6</th>\n",
       "      <th>V7</th>\n",
       "    </tr>\n",
       "  </thead>\n",
       "  <tbody>\n",
       "    <tr>\n",
       "      <th>0</th>\n",
       "      <td>1</td>\n",
       "      <td>No</td>\n",
       "      <td>0</td>\n",
       "      <td>2</td>\n",
       "      <td>30.443518</td>\n",
       "      <td>-1.165083</td>\n",
       "      <td>1</td>\n",
       "      <td>1</td>\n",
       "      <td>3</td>\n",
       "      <td>2</td>\n",
       "    </tr>\n",
       "    <tr>\n",
       "      <th>1</th>\n",
       "      <td>3</td>\n",
       "      <td>No</td>\n",
       "      <td>0</td>\n",
       "      <td>3</td>\n",
       "      <td>32.159350</td>\n",
       "      <td>-0.645617</td>\n",
       "      <td>2</td>\n",
       "      <td>3</td>\n",
       "      <td>2</td>\n",
       "      <td>2</td>\n",
       "    </tr>\n",
       "    <tr>\n",
       "      <th>2</th>\n",
       "      <td>4</td>\n",
       "      <td>No</td>\n",
       "      <td>0</td>\n",
       "      <td>2</td>\n",
       "      <td>30.431659</td>\n",
       "      <td>0.133583</td>\n",
       "      <td>1</td>\n",
       "      <td>1</td>\n",
       "      <td>4</td>\n",
       "      <td>2</td>\n",
       "    </tr>\n",
       "    <tr>\n",
       "      <th>3</th>\n",
       "      <td>5</td>\n",
       "      <td>No</td>\n",
       "      <td>0</td>\n",
       "      <td>0</td>\n",
       "      <td>26.588914</td>\n",
       "      <td>-0.212728</td>\n",
       "      <td>2</td>\n",
       "      <td>1</td>\n",
       "      <td>4</td>\n",
       "      <td>2</td>\n",
       "    </tr>\n",
       "    <tr>\n",
       "      <th>4</th>\n",
       "      <td>8</td>\n",
       "      <td>Yes</td>\n",
       "      <td>0</td>\n",
       "      <td>3</td>\n",
       "      <td>28.044332</td>\n",
       "      <td>-0.385883</td>\n",
       "      <td>1</td>\n",
       "      <td>1</td>\n",
       "      <td>2</td>\n",
       "      <td>2</td>\n",
       "    </tr>\n",
       "  </tbody>\n",
       "</table>\n",
       "</div>"
      ],
      "text/plain": [
       "   ID Promotion  purchase  V1         V2        V3  V4  V5  V6  V7\n",
       "0   1        No         0   2  30.443518 -1.165083   1   1   3   2\n",
       "1   3        No         0   3  32.159350 -0.645617   2   3   2   2\n",
       "2   4        No         0   2  30.431659  0.133583   1   1   4   2\n",
       "3   5        No         0   0  26.588914 -0.212728   2   1   4   2\n",
       "4   8       Yes         0   3  28.044332 -0.385883   1   1   2   2"
      ]
     },
     "execution_count": 29,
     "metadata": {},
     "output_type": "execute_result"
    }
   ],
   "source": [
    "# load in packages\n",
    "from itertools import combinations\n",
    "\n",
    "from test_results import test_results, score\n",
    "import numpy as np\n",
    "import pandas as pd\n",
    "import scipy as sp\n",
    "import sklearn as sk\n",
    "\n",
    "import matplotlib.pyplot as plt\n",
    "import seaborn as sns\n",
    "%matplotlib inline\n",
    "\n",
    "sns.set()\n",
    "\n",
    "# load in the data\n",
    "train_data = pd.read_csv('data/training.csv')\n",
    "train_data.head()"
   ]
  },
  {
   "cell_type": "code",
   "execution_count": 2,
   "metadata": {},
   "outputs": [
    {
     "data": {
      "image/png": "[encoded data removed]",
      "text/plain": [
       "<Figure size 1152x504 with 7 Axes>"
      ]
     },
     "metadata": {
      "needs_background": "light"
     },
     "output_type": "display_data"
    }
   ],
   "source": [
    "# We plot the distributions of all the features\n",
    "features = train_data.columns[3:]\n",
    "\n",
    "i = 1\n",
    "plt.figure(figsize=(16, 7))\n",
    "plt.subplots_adjust(hspace=.3)\n",
    "for feature in features:\n",
    "    plt.subplot(2, 4, i)\n",
    "    plt.hist(train_data[feature])\n",
    "    i+=1\n",
    "    plt.title(feature)\n",
    "    plt.ticklabel_format(axis='y', style='sci', scilimits=(0,0))\n",
    "    \n",
    "plt.suptitle('Distribution of features')\n",
    "plt.show()"
   ]
  },
  {
   "cell_type": "markdown",
   "metadata": {},
   "source": [
    "There are **only two continuous** features. The rest of the features seam to be categorical or ordinal."
   ]
  },
  {
   "cell_type": "code",
   "execution_count": 21,
   "metadata": {},
   "outputs": [],
   "source": [
    "continuous_features = ['V2', 'V3']\n",
    "categorical_features = ['V1', 'V4', 'V5', 'V6', 'V7']"
   ]
  },
  {
   "cell_type": "markdown",
   "metadata": {},
   "source": [
    "#### Encoding categorical variables"
   ]
  },
  {
   "cell_type": "code",
   "execution_count": 22,
   "metadata": {},
   "outputs": [
    {
     "data": {
      "text/html": [
       "<div>\n",
       "<style scoped>\n",
       "    .dataframe tbody tr th:only-of-type {\n",
       "        vertical-align: middle;\n",
       "    }\n",
       "\n",
       "    .dataframe tbody tr th {\n",
       "        vertical-align: top;\n",
       "    }\n",
       "\n",
       "    .dataframe thead th {\n",
       "        text-align: right;\n",
       "    }\n",
       "</style>\n",
       "<table border=\"1\" class=\"dataframe\">\n",
       "  <thead>\n",
       "    <tr style=\"text-align: right;\">\n",
       "      <th></th>\n",
       "      <th>Promotion</th>\n",
       "      <th>purchase</th>\n",
       "      <th>V2</th>\n",
       "      <th>V3</th>\n",
       "      <th>V1_0</th>\n",
       "      <th>V1_1</th>\n",
       "      <th>V1_2</th>\n",
       "      <th>V1_3</th>\n",
       "      <th>V4_1</th>\n",
       "      <th>V4_2</th>\n",
       "      <th>V5_1</th>\n",
       "      <th>V5_2</th>\n",
       "      <th>V5_3</th>\n",
       "      <th>V5_4</th>\n",
       "      <th>V6_1</th>\n",
       "      <th>V6_2</th>\n",
       "      <th>V6_3</th>\n",
       "      <th>V6_4</th>\n",
       "      <th>V7_1</th>\n",
       "      <th>V7_2</th>\n",
       "    </tr>\n",
       "  </thead>\n",
       "  <tbody>\n",
       "    <tr>\n",
       "      <th>0</th>\n",
       "      <td>No</td>\n",
       "      <td>0</td>\n",
       "      <td>30.443518</td>\n",
       "      <td>-1.165083</td>\n",
       "      <td>0</td>\n",
       "      <td>0</td>\n",
       "      <td>1</td>\n",
       "      <td>0</td>\n",
       "      <td>1</td>\n",
       "      <td>0</td>\n",
       "      <td>1</td>\n",
       "      <td>0</td>\n",
       "      <td>0</td>\n",
       "      <td>0</td>\n",
       "      <td>0</td>\n",
       "      <td>0</td>\n",
       "      <td>1</td>\n",
       "      <td>0</td>\n",
       "      <td>0</td>\n",
       "      <td>1</td>\n",
       "    </tr>\n",
       "    <tr>\n",
       "      <th>1</th>\n",
       "      <td>No</td>\n",
       "      <td>0</td>\n",
       "      <td>32.159350</td>\n",
       "      <td>-0.645617</td>\n",
       "      <td>0</td>\n",
       "      <td>0</td>\n",
       "      <td>0</td>\n",
       "      <td>1</td>\n",
       "      <td>0</td>\n",
       "      <td>1</td>\n",
       "      <td>0</td>\n",
       "      <td>0</td>\n",
       "      <td>1</td>\n",
       "      <td>0</td>\n",
       "      <td>0</td>\n",
       "      <td>1</td>\n",
       "      <td>0</td>\n",
       "      <td>0</td>\n",
       "      <td>0</td>\n",
       "      <td>1</td>\n",
       "    </tr>\n",
       "    <tr>\n",
       "      <th>2</th>\n",
       "      <td>No</td>\n",
       "      <td>0</td>\n",
       "      <td>30.431659</td>\n",
       "      <td>0.133583</td>\n",
       "      <td>0</td>\n",
       "      <td>0</td>\n",
       "      <td>1</td>\n",
       "      <td>0</td>\n",
       "      <td>1</td>\n",
       "      <td>0</td>\n",
       "      <td>1</td>\n",
       "      <td>0</td>\n",
       "      <td>0</td>\n",
       "      <td>0</td>\n",
       "      <td>0</td>\n",
       "      <td>0</td>\n",
       "      <td>0</td>\n",
       "      <td>1</td>\n",
       "      <td>0</td>\n",
       "      <td>1</td>\n",
       "    </tr>\n",
       "    <tr>\n",
       "      <th>3</th>\n",
       "      <td>No</td>\n",
       "      <td>0</td>\n",
       "      <td>26.588914</td>\n",
       "      <td>-0.212728</td>\n",
       "      <td>1</td>\n",
       "      <td>0</td>\n",
       "      <td>0</td>\n",
       "      <td>0</td>\n",
       "      <td>0</td>\n",
       "      <td>1</td>\n",
       "      <td>1</td>\n",
       "      <td>0</td>\n",
       "      <td>0</td>\n",
       "      <td>0</td>\n",
       "      <td>0</td>\n",
       "      <td>0</td>\n",
       "      <td>0</td>\n",
       "      <td>1</td>\n",
       "      <td>0</td>\n",
       "      <td>1</td>\n",
       "    </tr>\n",
       "    <tr>\n",
       "      <th>4</th>\n",
       "      <td>Yes</td>\n",
       "      <td>0</td>\n",
       "      <td>28.044332</td>\n",
       "      <td>-0.385883</td>\n",
       "      <td>0</td>\n",
       "      <td>0</td>\n",
       "      <td>0</td>\n",
       "      <td>1</td>\n",
       "      <td>1</td>\n",
       "      <td>0</td>\n",
       "      <td>1</td>\n",
       "      <td>0</td>\n",
       "      <td>0</td>\n",
       "      <td>0</td>\n",
       "      <td>0</td>\n",
       "      <td>1</td>\n",
       "      <td>0</td>\n",
       "      <td>0</td>\n",
       "      <td>0</td>\n",
       "      <td>1</td>\n",
       "    </tr>\n",
       "  </tbody>\n",
       "</table>\n",
       "</div>"
      ],
      "text/plain": [
       "  Promotion  purchase         V2        V3  V1_0  V1_1  V1_2  V1_3  V4_1  \\\n",
       "0        No         0  30.443518 -1.165083     0     0     1     0     1   \n",
       "1        No         0  32.159350 -0.645617     0     0     0     1     0   \n",
       "2        No         0  30.431659  0.133583     0     0     1     0     1   \n",
       "3        No         0  26.588914 -0.212728     1     0     0     0     0   \n",
       "4       Yes         0  28.044332 -0.385883     0     0     0     1     1   \n",
       "\n",
       "   V4_2  V5_1  V5_2  V5_3  V5_4  V6_1  V6_2  V6_3  V6_4  V7_1  V7_2  \n",
       "0     0     1     0     0     0     0     0     1     0     0     1  \n",
       "1     1     0     0     1     0     0     1     0     0     0     1  \n",
       "2     0     1     0     0     0     0     0     0     1     0     1  \n",
       "3     1     1     0     0     0     0     0     0     1     0     1  \n",
       "4     0     1     0     0     0     0     1     0     0     0     1  "
      ]
     },
     "execution_count": 22,
     "metadata": {},
     "output_type": "execute_result"
    }
   ],
   "source": [
    "df = pd.get_dummies(train_data, columns=categorical_features)\n",
    "df.drop('ID', axis=1, inplace=True)\n",
    "df.head(5)"
   ]
  },
  {
   "cell_type": "markdown",
   "metadata": {},
   "source": [
    "#### Comparing experiment and control group"
   ]
  },
  {
   "cell_type": "code",
   "execution_count": 65,
   "metadata": {},
   "outputs": [],
   "source": [
    "def check_split(data, feature, split=.5):\n",
    "    ''' Check if the features distribution can be result from random sampling '''\n",
    "    \n",
    "    group_exp = data[data['Promotion'] == 'Yes'][feature]\n",
    "    group_control = data[data['Promotion'] == 'No'][feature]\n",
    "\n",
    "    p_null = split\n",
    "    n_total = sum(group_exp) + sum(group_control)\n",
    "\n",
    "    mu = p_null * n_total\n",
    "\n",
    "    std = np.sqrt(p_null * (1-p_null) * n_total)\n",
    "    n_control = sum(group_control)\n",
    "\n",
    "    z_score = ((n_control + .5) - n_total * p_null) / std\n",
    "\n",
    "    p_value = 2 * sp.stats.norm.cdf(z_score)\n",
    "    if p_value <= .05:\n",
    "        print('** Feature {} has p-value of {} and null hypothesis needs to be rejected'.format(feature, p_value))\n",
    "    else:\n",
    "        print('Feature {} is balanced (p_value={:.3})'.format(feature, p_value))"
   ]
  },
  {
   "cell_type": "code",
   "execution_count": 66,
   "metadata": {},
   "outputs": [
    {
     "name": "stdout",
     "output_type": "stream",
     "text": [
      "Feature V1_0 is balanced (p_value=1.44)\n",
      "Feature V1_1 is balanced (p_value=1.21)\n",
      "Feature V1_2 is balanced (p_value=0.283)\n",
      "Feature V1_3 is balanced (p_value=0.3)\n",
      "Feature V4_1 is balanced (p_value=0.477)\n",
      "Feature V4_2 is balanced (p_value=0.754)\n",
      "Feature V5_1 is balanced (p_value=0.256)\n",
      "Feature V5_2 is balanced (p_value=1.09)\n",
      "Feature V5_3 is balanced (p_value=0.304)\n",
      "Feature V5_4 is balanced (p_value=1.9)\n",
      "Feature V6_1 is balanced (p_value=0.951)\n",
      "Feature V6_2 is balanced (p_value=0.767)\n",
      "Feature V6_3 is balanced (p_value=0.685)\n",
      "Feature V6_4 is balanced (p_value=0.587)\n",
      "Feature V7_1 is balanced (p_value=0.529)\n",
      "Feature V7_2 is balanced (p_value=0.706)\n"
     ]
    }
   ],
   "source": [
    "categorical_features = ['V1_0', 'V1_1', 'V1_2', 'V1_3', 'V4_1', 'V4_2', 'V5_1', 'V5_2', 'V5_3', 'V5_4', 'V6_1', \n",
    "                        'V6_2', 'V6_3', 'V6_4', 'V7_1', 'V7_2']\n",
    "for feature in categorical_features:\n",
    "    check_split(df, feature)"
   ]
  },
  {
   "cell_type": "markdown",
   "metadata": {},
   "source": [
    "All features are balanced between the experimental and the control group. We know need to search for differences of the promotion parts of the different grooups."
   ]
  },
  {
   "cell_type": "markdown",
   "metadata": {},
   "source": [
    "#### Search for statistically relevant differences"
   ]
  },
  {
   "cell_type": "code",
   "execution_count": 202,
   "metadata": {},
   "outputs": [],
   "source": [
    "def calculate_irr(data):\n",
    "    ''' Calculates the incremental response rate '''\n",
    "    \n",
    "    experiment_group = data[data['Promotion'] == 'Yes']\n",
    "    control_group = data[data['Promotion'] == 'No']\n",
    "    \n",
    "    return experiment_group['purchase'].sum()/len(experiment_group) - control_group['purchase'].sum()/len(control_group)"
   ]
  },
  {
   "cell_type": "code",
   "execution_count": 203,
   "metadata": {},
   "outputs": [],
   "source": [
    "def calculate_nir(data):\n",
    "    ''' Calculates the net incremental revenue '''\n",
    "    \n",
    "    experiment_group = data[data['Promotion'] == 'Yes']\n",
    "    control_group = data[data['Promotion'] == 'No']\n",
    "    \n",
    "    return (10 * experiment_group['purchase'].sum() - .15 * len(experiment_group)) - 10 * control_group['purchase'].sum()"
   ]
  },
  {
   "cell_type": "code",
   "execution_count": 265,
   "metadata": {},
   "outputs": [],
   "source": [
    "def check_purchases_for_feature(data, feature):\n",
    "    ''' \n",
    "    Calculated probability of the differences in amout of purchases \n",
    "    between the group that have this features and the group which do not \n",
    "    '''\n",
    "    \n",
    "    # Observed proportion of purchases for feature\n",
    "    p_null = data.purchase.mean()\n",
    "\n",
    "    # Calculate counts of different groups\n",
    "    n_total = sum(data[feature])\n",
    "    data_control = data[data['Promotion'] == 'No']\n",
    "    data_experiment = data[data['Promotion'] == 'Yes']\n",
    "    n_control = sum(data_control[feature])\n",
    "    n_experiment = sum(data_experiment[feature])\n",
    "\n",
    "    # Calculate means of purchases between experiment and control group\n",
    "    mean_control, mean_experiment = data[data[feature] == 1].groupby('Promotion')['purchase'].mean().values\n",
    "\n",
    "    # Calculate standard error\n",
    "    std_error = np.sqrt(p_null * (1-p_null) * (1/n_control + 1/n_experiment))\n",
    "\n",
    "    # Calculate z-score of actual difference\n",
    "    z_score = (mean_experiment - mean_control) / std_error\n",
    "\n",
    "    # Caculate probability of result\n",
    "    p_value = 1 - sp.stats.norm.cdf(z_score)\n",
    "\n",
    "    if p_value < .01:\n",
    "        significance = '***'\n",
    "    elif p_value < .05:\n",
    "        significance = '**'\n",
    "    elif p_value < .1:\n",
    "        significance = '*'\n",
    "    else:\n",
    "        significance = ''\n",
    "    purchase_delta = data_experiment[data_experiment[feature] == 1]['purchase'].sum() \\\n",
    "                                      - data_control[data_control[feature] == 1]['purchase'].sum()\n",
    "    \n",
    "    irr = calculate_irr(data[data[feature] == 1])\n",
    "    nir = calculate_nir(data[data[feature] == 1])\n",
    "    print('{:<6} {:>6}: {:<10.4} (p-value)'.format(significance, feature, p_value))\n",
    "    print('         Diff. in Purchases: {:<5} IRR: {:<10.4} NIR :{:0.2f}'.format(purchase_delta,\n",
    "                                                              irr, nir))\n",
    "    return [feature, p_value, purchase_delta, irr, nir]"
   ]
  },
  {
   "cell_type": "code",
   "execution_count": 266,
   "metadata": {},
   "outputs": [
    {
     "name": "stdout",
     "output_type": "stream",
     "text": [
      "***      V1_0: 1.158e-07  (p-value)\n",
      "         Diff. in Purchases: 58    IRR: 0.01106    NIR :-212.45\n",
      "***      V1_1: 2.542e-09  (p-value)\n",
      "         Diff. in Purchases: 114   IRR: 0.007245   NIR :-1228.80\n",
      "***      V1_2: 0.0        (p-value)\n",
      "         Diff. in Purchases: 199   IRR: 0.01244    NIR :-395.00\n",
      "***      V1_3: 0.004301   (p-value)\n",
      "         Diff. in Purchases: 31    IRR: 0.005608   NIR :-498.35\n",
      "         V4_1: 0.5838     (p-value)\n",
      "         Diff. in Purchases: -3    IRR: -0.0002836 NIR :-2070.15\n",
      "***      V4_2: 0.0        (p-value)\n",
      "         Diff. in Purchases: 405   IRR: 0.01406    NIR :-264.45\n",
      "***      V5_1: 2.52e-14   (p-value)\n",
      "         Diff. in Purchases: 105   IRR: 0.01337    NIR :-116.55\n",
      "**       V5_2: 0.02214    (p-value)\n",
      "         Diff. in Purchases: 39    IRR: 0.002511   NIR :-1948.35\n",
      "***      V5_3: 0.0        (p-value)\n",
      "         Diff. in Purchases: 237   IRR: 0.01431    NIR :-99.75\n",
      "***      V5_4: 0.002315   (p-value)\n",
      "         Diff. in Purchases: 21    IRR: 0.008674   NIR :-169.95\n",
      "***      V6_1: 1.288e-12  (p-value)\n",
      "         Diff. in Purchases: 112   IRR: 0.01064    NIR :-457.70\n",
      "***      V6_2: 2.59e-07   (p-value)\n",
      "         Diff. in Purchases: 81    IRR: 0.00761    NIR :-779.25\n",
      "***      V6_3: 3.196e-12  (p-value)\n",
      "         Diff. in Purchases: 111   IRR: 0.01041    NIR :-483.45\n",
      "***      V6_4: 7.222e-10  (p-value)\n",
      "         Diff. in Purchases: 98    IRR: 0.009167   NIR :-614.20\n",
      "***      V7_1: 6.661e-16  (p-value)\n",
      "         Diff. in Purchases: 141   IRR: 0.01108    NIR :-488.85\n",
      "***      V7_2: 0.0        (p-value)\n",
      "         Diff. in Purchases: 261   IRR: 0.008762   NIR :-1845.75\n"
     ]
    }
   ],
   "source": [
    "results = []\n",
    "for feature in categorical_features:\n",
    "    results.append(check_purchases_for_feature(df, feature))"
   ]
  },
  {
   "cell_type": "code",
   "execution_count": 376,
   "metadata": {},
   "outputs": [
    {
     "data": {
      "image/png": "[encoded data removed]",
      "text/plain": [
       "<Figure size 1296x432 with 2 Axes>"
      ]
     },
     "metadata": {},
     "output_type": "display_data"
    }
   ],
   "source": [
    "alpha = .05\n",
    "\n",
    "significant_features = list(filter(lambda x: x[1] < alpha, results))\n",
    "\n",
    "plt.figure(figsize=(18, 6))\n",
    "plt.subplot(1,2,1)\n",
    "plt.bar([f[0] for f in significant_features], [irr for f, p, d, irr, nir in significant_features])\n",
    "plt.title('IRR of relevant features')\n",
    "plt.ylabel('IRR')\n",
    "plt.ylim([-.0005, 0.015])\n",
    "plt.subplot(1,2,2)\n",
    "plt.bar([f[0] for f in significant_features], [nir for f, p, d, irr, nir in significant_features],\n",
    "       color='r')\n",
    "plt.title('NIR of relevant features')\n",
    "plt.ylim([-2000, 100])\n",
    "plt.ylabel('NIR')\n",
    "plt.show()"
   ]
  },
  {
   "cell_type": "markdown",
   "metadata": {},
   "source": [
    "The IRR of the features are clear and show that the promotion did increase the purchases. Unfortunately the net incremental revenue for every feature alone is not alone and therefore the model has to incorporate different features."
   ]
  },
  {
   "cell_type": "markdown",
   "metadata": {},
   "source": [
    "### Modelling"
   ]
  },
  {
   "cell_type": "markdown",
   "metadata": {},
   "source": [
    "#### Build baseline model"
   ]
  },
  {
   "cell_type": "markdown",
   "metadata": {},
   "source": [
    "We start the modelling part by building a baseline model that randomly picks participiants for the experimental group."
   ]
  },
  {
   "cell_type": "code",
   "execution_count": 370,
   "metadata": {},
   "outputs": [
    {
     "name": "stdout",
     "output_type": "stream",
     "text": [
      "Nice job!  See how well your strategy worked on our test data below!\n",
      "\n",
      "Your irr with this strategy is 0.0096.\n",
      "\n",
      "Your nir with this strategy is -576.05.\n",
      "We came up with a model with an irr of 0.0188 and an nir of 189.45 on the test set.\n",
      "\n",
      " How did you do?\n"
     ]
    },
    {
     "data": {
      "text/plain": [
       "(0.009575048106082115, -576.05)"
      ]
     },
     "execution_count": 370,
     "metadata": {},
     "output_type": "execute_result"
    }
   ],
   "source": [
    "test_results(lambda df: np.random.choice(['Yes', 'No'], len(df)))"
   ]
  },
  {
   "cell_type": "markdown",
   "metadata": {},
   "source": [
    "#### Build more sophisticated model based on IRR and NIR"
   ]
  },
  {
   "cell_type": "markdown",
   "metadata": {},
   "source": [
    "Based on the calculations of the IRR we select the features with the highest gain for our model."
   ]
  },
  {
   "cell_type": "code",
   "execution_count": 383,
   "metadata": {},
   "outputs": [],
   "source": [
    "def promotion_strategy(df):\n",
    "    '''\n",
    "    INPUT \n",
    "    df - a dataframe with *only* the columns V1 - V7 (same as train_data)\n",
    "\n",
    "    OUTPUT\n",
    "    promotion_df - np.array with the values\n",
    "                   'Yes' or 'No' related to whether or not an \n",
    "                   individual should recieve a promotion \n",
    "                   should be the length of df.shape[0]\n",
    "                \n",
    "    Ex:\n",
    "    INPUT: df\n",
    "    \n",
    "    V1\tV2\t  V3\tV4\tV5\tV6\tV7\n",
    "    2\t30\t-1.1\t1\t1\t3\t2\n",
    "    3\t32\t-0.6\t2\t3\t2\t2\n",
    "    2\t30\t0.13\t1\t1\t4\t2\n",
    "    \n",
    "    OUTPUT: promotion\n",
    "    \n",
    "    array(['Yes', 'Yes', 'No'])\n",
    "    indicating the first two users would recieve the promotion and \n",
    "    the last should not.\n",
    "    '''\n",
    "    \n",
    "    \n",
    "    \n",
    "    return promotion"
   ]
  },
  {
   "cell_type": "markdown",
   "metadata": {},
   "source": [
    "### Evaluation"
   ]
  },
  {
   "cell_type": "code",
   "execution_count": null,
   "metadata": {},
   "outputs": [],
   "source": [
    "# This will test your results, and provide you back some information \n",
    "# on how well your promotion_strategy will work in practice\n",
    "\n",
    "test_results(promotion_strategy)"
   ]
  },
  {
   "cell_type": "code",
   "execution_count": 391,
   "metadata": {},
   "outputs": [
    {
     "data": {
      "text/html": [
       "<div>\n",
       "<style scoped>\n",
       "    .dataframe tbody tr th:only-of-type {\n",
       "        vertical-align: middle;\n",
       "    }\n",
       "\n",
       "    .dataframe tbody tr th {\n",
       "        vertical-align: top;\n",
       "    }\n",
       "\n",
       "    .dataframe thead th {\n",
       "        text-align: right;\n",
       "    }\n",
       "</style>\n",
       "<table border=\"1\" class=\"dataframe\">\n",
       "  <thead>\n",
       "    <tr style=\"text-align: right;\">\n",
       "      <th></th>\n",
       "      <th>Promotion</th>\n",
       "      <th>purchase</th>\n",
       "      <th>V2</th>\n",
       "      <th>V3</th>\n",
       "      <th>V1_0</th>\n",
       "      <th>V1_1</th>\n",
       "      <th>V1_2</th>\n",
       "      <th>V1_3</th>\n",
       "      <th>V4_1</th>\n",
       "      <th>V4_2</th>\n",
       "      <th>V5_1</th>\n",
       "      <th>V5_2</th>\n",
       "      <th>V5_3</th>\n",
       "      <th>V5_4</th>\n",
       "      <th>V6_1</th>\n",
       "      <th>V6_2</th>\n",
       "      <th>V6_3</th>\n",
       "      <th>V6_4</th>\n",
       "      <th>V7_1</th>\n",
       "      <th>V7_2</th>\n",
       "    </tr>\n",
       "  </thead>\n",
       "  <tbody>\n",
       "    <tr>\n",
       "      <th>0</th>\n",
       "      <td>No</td>\n",
       "      <td>0</td>\n",
       "      <td>30.443518</td>\n",
       "      <td>-1.165083</td>\n",
       "      <td>0</td>\n",
       "      <td>0</td>\n",
       "      <td>1</td>\n",
       "      <td>0</td>\n",
       "      <td>1</td>\n",
       "      <td>0</td>\n",
       "      <td>1</td>\n",
       "      <td>0</td>\n",
       "      <td>0</td>\n",
       "      <td>0</td>\n",
       "      <td>0</td>\n",
       "      <td>0</td>\n",
       "      <td>1</td>\n",
       "      <td>0</td>\n",
       "      <td>0</td>\n",
       "      <td>1</td>\n",
       "    </tr>\n",
       "    <tr>\n",
       "      <th>1</th>\n",
       "      <td>No</td>\n",
       "      <td>0</td>\n",
       "      <td>32.159350</td>\n",
       "      <td>-0.645617</td>\n",
       "      <td>0</td>\n",
       "      <td>0</td>\n",
       "      <td>0</td>\n",
       "      <td>1</td>\n",
       "      <td>0</td>\n",
       "      <td>1</td>\n",
       "      <td>0</td>\n",
       "      <td>0</td>\n",
       "      <td>1</td>\n",
       "      <td>0</td>\n",
       "      <td>0</td>\n",
       "      <td>1</td>\n",
       "      <td>0</td>\n",
       "      <td>0</td>\n",
       "      <td>0</td>\n",
       "      <td>1</td>\n",
       "    </tr>\n",
       "  </tbody>\n",
       "</table>\n",
       "</div>"
      ],
      "text/plain": [
       "  Promotion  purchase         V2        V3  V1_0  V1_1  V1_2  V1_3  V4_1  \\\n",
       "0        No         0  30.443518 -1.165083     0     0     1     0     1   \n",
       "1        No         0  32.159350 -0.645617     0     0     0     1     0   \n",
       "\n",
       "   V4_2  V5_1  V5_2  V5_3  V5_4  V6_1  V6_2  V6_3  V6_4  V7_1  V7_2  \n",
       "0     0     1     0     0     0     0     0     1     0     0     1  \n",
       "1     1     0     0     1     0     0     1     0     0     0     1  "
      ]
     },
     "execution_count": 391,
     "metadata": {},
     "output_type": "execute_result"
    }
   ],
   "source": [
    "data.head(2)"
   ]
  },
  {
   "cell_type": "code",
   "execution_count": 398,
   "metadata": {},
   "outputs": [
    {
     "data": {
      "text/plain": [
       "0        Yes\n",
       "1         No\n",
       "2        Yes\n",
       "3        Yes\n",
       "4         No\n",
       "5         No\n",
       "6         No\n",
       "7        Yes\n",
       "8        Yes\n",
       "9         No\n",
       "10        No\n",
       "11       Yes\n",
       "12        No\n",
       "13       Yes\n",
       "14        No\n",
       "15       Yes\n",
       "16        No\n",
       "17        No\n",
       "18        No\n",
       "19       Yes\n",
       "20        No\n",
       "21       Yes\n",
       "22       Yes\n",
       "23        No\n",
       "24        No\n",
       "25        No\n",
       "26        No\n",
       "27        No\n",
       "28        No\n",
       "29       Yes\n",
       "        ... \n",
       "84504     No\n",
       "84505     No\n",
       "84506    Yes\n",
       "84507    Yes\n",
       "84508    Yes\n",
       "84509     No\n",
       "84510     No\n",
       "84511    Yes\n",
       "84512     No\n",
       "84513     No\n",
       "84514     No\n",
       "84515    Yes\n",
       "84516    Yes\n",
       "84517     No\n",
       "84518     No\n",
       "84519     No\n",
       "84520     No\n",
       "84521     No\n",
       "84522     No\n",
       "84523     No\n",
       "84524    Yes\n",
       "84525    Yes\n",
       "84526     No\n",
       "84527     No\n",
       "84528    Yes\n",
       "84529     No\n",
       "84530     No\n",
       "84531     No\n",
       "84532     No\n",
       "84533     No\n",
       "Length: 84534, dtype: object"
      ]
     },
     "execution_count": 398,
     "metadata": {},
     "output_type": "execute_result"
    }
   ],
   "source": [
    "data.iloc[:, 4:].apply(lambda row: 'Yes' if (row['V1_0'] == 1 or row['V1_2'] == 1) else 'No', axis=1)"
   ]
  },
  {
   "cell_type": "code",
   "execution_count": null,
   "metadata": {},
   "outputs": [],
   "source": []
  }
 ],
 "metadata": {
  "kernelspec": {
   "display_name": "Python 3",
   "language": "python",
   "name": "python3"
  },
  "language_info": {
   "codemirror_mode": {
    "name": "ipython",
    "version": 3
   },
   "file_extension": ".py",
   "mimetype": "text/x-python",
   "name": "python",
   "nbconvert_exporter": "python",
   "pygments_lexer": "ipython3",
   "version": "3.7.2"
  }
 },
 "nbformat": 4,
 "nbformat_minor": 2
}
